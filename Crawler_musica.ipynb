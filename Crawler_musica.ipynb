{
 "cells": [
  {
   "cell_type": "code",
   "execution_count": 1,
   "id": "af967349-fd03-45b4-a9ce-114134d755e6",
   "metadata": {},
   "outputs": [],
   "source": [
    "import requests"
   ]
  },
  {
   "cell_type": "code",
   "execution_count": 2,
   "id": "3646ca47-a0d6-4121-b6ae-ec58618998ee",
   "metadata": {},
   "outputs": [],
   "source": [
    "response = requests.get(\"https://www.letras.com.br/letra/a\")"
   ]
  },
  {
   "cell_type": "code",
   "execution_count": 3,
   "id": "eee16190-8c2e-4c34-a07f-5af3826154f2",
   "metadata": {},
   "outputs": [],
   "source": [
    "from bs4 import BeautifulSoup"
   ]
  },
  {
   "cell_type": "code",
   "execution_count": 4,
   "id": "19d25e2e-9b25-46c6-818e-03c4eaff7af2",
   "metadata": {},
   "outputs": [],
   "source": [
    "soup = BeautifulSoup(response.text, 'html.parser')"
   ]
  },
  {
   "cell_type": "markdown",
   "id": "5ae44366-6e58-41e4-9479-a050aedff64b",
   "metadata": {},
   "source": [
    "Get all artists in letter"
   ]
  },
  {
   "cell_type": "code",
   "execution_count": 5,
   "id": "98ad3c86-071d-4a49-a425-53093f025087",
   "metadata": {},
   "outputs": [],
   "source": [
    "all_artists = soup.find_all(\"a\",{\"class\":\"item-list\"})"
   ]
  },
  {
   "cell_type": "code",
   "execution_count": 13,
   "id": "fe8d31e7-c6f5-4f7a-8354-cc45d1f7a8f9",
   "metadata": {},
   "outputs": [
    {
     "data": {
      "text/plain": [
       "' A (ace) '"
      ]
     },
     "execution_count": 13,
     "metadata": {},
     "output_type": "execute_result"
    }
   ],
   "source": [
    "all_artists[1].text"
   ]
  },
  {
   "cell_type": "code",
   "execution_count": 14,
   "id": "037ee356-d9da-44fc-9dd4-55f411b859ae",
   "metadata": {},
   "outputs": [],
   "source": [
    "all_artists_links = list()\n",
    "for artist in all_artists:\n",
    "    try:\n",
    "        href = artist['href']\n",
    "        text = artist.text.strip()\n",
    "        all_artists_links.append({\"text\":text,\"link\":href})\n",
    "    except Exception as ex:\n",
    "        print(ex)\n",
    "        "
   ]
  },
  {
   "cell_type": "markdown",
   "id": "c2521f9d-c61b-4668-b6b7-56e1a6df14d6",
   "metadata": {},
   "source": [
    "Get all song in artists"
   ]
  },
  {
   "cell_type": "code",
   "execution_count": 17,
   "id": "30ff0b6b-70fd-41ff-9f51-ca1a0deb1f32",
   "metadata": {},
   "outputs": [],
   "source": [
    "a_ace = all_artists_links[1]"
   ]
  },
  {
   "cell_type": "code",
   "execution_count": 18,
   "id": "e1b66185-1133-4644-bc88-d4e42dfad288",
   "metadata": {},
   "outputs": [],
   "source": [
    "response_songs = requests.get(a_ace['link'])"
   ]
  },
  {
   "cell_type": "code",
   "execution_count": 25,
   "id": "e05c1508-fdaa-4ec2-8771-ca0c58d8ba0d",
   "metadata": {},
   "outputs": [],
   "source": [
    "soup_song = BeautifulSoup(response_songs.text, 'html.parser')\n",
    "all_songs = soup_song.find_all(\"li\",{\"class\":\"item-quick-menu\"})"
   ]
  },
  {
   "cell_type": "code",
   "execution_count": 29,
   "id": "856c7d02-66dc-4524-aa16-a802e175885a",
   "metadata": {},
   "outputs": [],
   "source": [
    "all_songs_links = list()\n",
    "for song in all_songs:\n",
    "    try:\n",
    "        href = song.find('a')['href']\n",
    "        if \"#top\" in href:\n",
    "            continue\n",
    "        text = song.find('span',{\"class\":\"lyric-name\"}).text\n",
    "        all_songs_links.append({\"link_song\":href,\"title\":text,\"artists\":a_ace['text']})\n",
    "    except Exception as ex:\n",
    "        print(ex)"
   ]
  },
  {
   "cell_type": "code",
   "execution_count": 30,
   "id": "390cc449-c0ad-47b7-a5cb-86e1cfca8801",
   "metadata": {},
   "outputs": [
    {
     "data": {
      "text/plain": [
       "[{'link_song': 'https://www.letras.com.br/a-%28ace%29/abyss',\n",
       "  'title': ' Abyss ',\n",
       "  'artists': 'A (ace)'},\n",
       " {'link_song': 'https://www.letras.com.br/a-%28ace%29/black-butterfly',\n",
       "  'title': ' Black Butterfly ',\n",
       "  'artists': 'A (ace)'},\n",
       " {'link_song': 'https://www.letras.com.br/a-%28ace%29/devils-voice',\n",
       "  'title': \" Devil's Voice \",\n",
       "  'artists': 'A (ace)'},\n",
       " {'link_song': 'https://www.letras.com.br/a-%28ace%29/fools-gold',\n",
       "  'title': \" Fool's Gold \",\n",
       "  'artists': 'A (ace)'},\n",
       " {'link_song': 'https://www.letras.com.br/a-%28ace%29/god-child',\n",
       "  'title': ' God Child ',\n",
       "  'artists': 'A (ace)'},\n",
       " {'link_song': 'https://www.letras.com.br/a-%28ace%29/goddess',\n",
       "  'title': ' Goddess ',\n",
       "  'artists': 'A (ace)'},\n",
       " {'link_song': 'https://www.letras.com.br/a-%28ace%29/grafton-calling',\n",
       "  'title': ' Grafton Calling ',\n",
       "  'artists': 'A (ace)'},\n",
       " {'link_song': 'https://www.letras.com.br/a-%28ace%29/haiiro-no-tenshi',\n",
       "  'title': ' Haiiro No Tenshi ',\n",
       "  'artists': 'A (ace)'},\n",
       " {'link_song': 'https://www.letras.com.br/a-%28ace%29/koukyoushi-freedom-i-tanchou',\n",
       "  'title': ' Koukyoushi Freedom I Tanchou ',\n",
       "  'artists': 'A (ace)'},\n",
       " {'link_song': 'https://www.letras.com.br/a-%28ace%29/koyoi-juusei-ga-kikoenai-machi-de',\n",
       "  'title': ' Koyoi, Juusei Ga Kikoenai Machi De ',\n",
       "  'artists': 'A (ace)'},\n",
       " {'link_song': 'https://www.letras.com.br/a-%28ace%29/loveless',\n",
       "  'title': ' Loveless ',\n",
       "  'artists': 'A (ace)'},\n",
       " {'link_song': 'https://www.letras.com.br/a-%28ace%29/masquerade',\n",
       "  'title': ' Masquerade ',\n",
       "  'artists': 'A (ace)'},\n",
       " {'link_song': 'https://www.letras.com.br/a-%28ace%29/mirror-of-terror',\n",
       "  'title': ' Mirror Of Terror ',\n",
       "  'artists': 'A (ace)'},\n",
       " {'link_song': 'https://www.letras.com.br/a-%28ace%29/night-of-the-knights',\n",
       "  'title': ' Night Of The Knights ',\n",
       "  'artists': 'A (ace)'},\n",
       " {'link_song': 'https://www.letras.com.br/a-%28ace%29/nu-world',\n",
       "  'title': ' Nu World ',\n",
       "  'artists': 'A (ace)'},\n",
       " {'link_song': 'https://www.letras.com.br/a-%28ace%29/nude',\n",
       "  'title': ' Nude ',\n",
       "  'artists': 'A (ace)'},\n",
       " {'link_song': 'https://www.letras.com.br/a-%28ace%29/rhapsody-in-black',\n",
       "  'title': ' Rhapsody In Black ',\n",
       "  'artists': 'A (ace)'},\n",
       " {'link_song': 'https://www.letras.com.br/a-%28ace%29/sakura',\n",
       "  'title': ' Sakura ',\n",
       "  'artists': 'A (ace)'},\n",
       " {'link_song': 'https://www.letras.com.br/a-%28ace%29/shangri-la',\n",
       "  'title': ' Shangri-la ',\n",
       "  'artists': 'A (ace)'},\n",
       " {'link_song': 'https://www.letras.com.br/a-%28ace%29/ship-friend-of-mine',\n",
       "  'title': ' Ship \"friend Of Mine\" ',\n",
       "  'artists': 'A (ace)'},\n",
       " {'link_song': 'https://www.letras.com.br/a-%28ace%29/vanilla-sky',\n",
       "  'title': ' Vanilla Sky ',\n",
       "  'artists': 'A (ace)'},\n",
       " {'link_song': 'https://www.letras.com.br/a-%28ace%29/viva-la-casta',\n",
       "  'title': ' Viva La Casta! ',\n",
       "  'artists': 'A (ace)'},\n",
       " {'link_song': 'https://www.letras.com.br/a-%28ace%29/yoake-no-ansemu',\n",
       "  'title': ' Yoake No Ansemu ',\n",
       "  'artists': 'A (ace)'},\n",
       " {'link_song': 'https://www.letras.com.br/a-%28ace%29/yoake-no-anthem',\n",
       "  'title': ' Yoake No Anthem ',\n",
       "  'artists': 'A (ace)'},\n",
       " {'link_song': 'https://www.letras.com.br/a-%28ace%29/zankoku-na-tenshi-no-teeze',\n",
       "  'title': ' Zankoku Na Tenshi No Teeze ',\n",
       "  'artists': 'A (ace)'}]"
      ]
     },
     "execution_count": 30,
     "metadata": {},
     "output_type": "execute_result"
    }
   ],
   "source": [
    "all_songs_links"
   ]
  },
  {
   "cell_type": "markdown",
   "id": "1cd4b6c1-5809-4793-846b-d5451e0574f7",
   "metadata": {},
   "source": [
    "Get song detail"
   ]
  },
  {
   "cell_type": "code",
   "execution_count": 31,
   "id": "d8b22a2b-68ff-490d-9768-8ed5137b1ee2",
   "metadata": {},
   "outputs": [],
   "source": [
    "abyss = all_songs_links[0]"
   ]
  },
  {
   "cell_type": "code",
   "execution_count": 32,
   "id": "b4ef0e51-b801-4a17-be5d-721d011e9f24",
   "metadata": {},
   "outputs": [
    {
     "data": {
      "text/plain": [
       "{'link_song': 'https://www.letras.com.br/a-%28ace%29/abyss',\n",
       " 'title': ' Abyss ',\n",
       " 'artists': 'A (ace)'}"
      ]
     },
     "execution_count": 32,
     "metadata": {},
     "output_type": "execute_result"
    }
   ],
   "source": [
    "abyss"
   ]
  },
  {
   "cell_type": "code",
   "execution_count": 33,
   "id": "c5163377-a6c6-4fb0-9ca5-f620dfbcb82d",
   "metadata": {},
   "outputs": [],
   "source": [
    "response_song_detail = requests.get(abyss['link_song'])"
   ]
  },
  {
   "cell_type": "code",
   "execution_count": 34,
   "id": "3c7dc0d3-4a74-4ead-a4f8-94414a5c2b59",
   "metadata": {},
   "outputs": [],
   "source": [
    "soup_song_detail = BeautifulSoup(response_song_detail.text, 'html.parser')"
   ]
  },
  {
   "cell_type": "code",
   "execution_count": 35,
   "id": "61959113-9214-4ee3-9b9e-e45ae9e97f16",
   "metadata": {},
   "outputs": [],
   "source": [
    "lyric = soup_song_detail.find('section',{\"class\":\"lyrics-section\"})"
   ]
  },
  {
   "cell_type": "code",
   "execution_count": 36,
   "id": "13b60b70-39cf-471f-9355-3c5d2d47cb4a",
   "metadata": {},
   "outputs": [
    {
     "data": {
      "text/plain": [
       "' Kurai umi no soko e yukou ka Mada daremo shiranai rakuen  Fukai umi no soko e yukou ka Mou nigeru koto ni tsukareta  Anata ga iru nara Nanimo kowaku wa nai  Hikari sasanai yami no naka e Karamarinagara futari wa ochiteku Haha naru sekai ni dakarenagara Deepest Love Deepest Love Eien wa sugu soko  Chijou kara afureta tenshi wa Doko e yukeba ii no darou  Arasou hitotachi Nanimo mitaku wa nai  Kurutta daichi de ikinuku ni wa Amari ni yowaku yasashisugita dake Tatoe sekai ga horonda toshitemo Deepest Love Deepest Love Koko ni wa todokanai  Hikari sasanai yami no naka e Karamarinagara futari wa ochiteku Jikan wa itsushika imi wo nakushi Kono te ga… Sono te ga… Hitotsu ni…  Subete ga umareru shikisai no naka e Tokeainagara futari wa ochiteku Haha naru sekai de warai aou Deepest Love Deepest Love Eien wa sugu soko '"
      ]
     },
     "execution_count": 36,
     "metadata": {},
     "output_type": "execute_result"
    }
   ],
   "source": [
    "lyric.text"
   ]
  },
  {
   "cell_type": "markdown",
   "id": "d0e2e5ad-adee-488c-9d01-244630b4e5d6",
   "metadata": {},
   "source": [
    "https://alphacephei.com/vosk/install"
   ]
  }
 ],
 "metadata": {
  "kernelspec": {
   "display_name": "Python 3 (ipykernel)",
   "language": "python",
   "name": "python3"
  },
  "language_info": {
   "codemirror_mode": {
    "name": "ipython",
    "version": 3
   },
   "file_extension": ".py",
   "mimetype": "text/x-python",
   "name": "python",
   "nbconvert_exporter": "python",
   "pygments_lexer": "ipython3",
   "version": "3.12.0"
  }
 },
 "nbformat": 4,
 "nbformat_minor": 5
}
